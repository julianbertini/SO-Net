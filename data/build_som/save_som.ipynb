{
 "cells": [
  {
   "cell_type": "code",
   "execution_count": 2,
   "metadata": {},
   "outputs": [],
   "source": [
    "import random\n",
    "import numbers\n",
    "import os\n",
    "import os.path\n",
    "import numpy as np\n",
    "import struct\n",
    "import math\n",
    "\n",
    "import torch\n",
    "import torchvision\n",
    "import matplotlib.pyplot as plt\n",
    "import h5py\n",
    "import json\n",
    "\n",
    "from util import som\n",
    "\n",
    "import matplotlib.pyplot as plt\n",
    "from mpl_toolkits.mplot3d import Axes3D"
   ]
  },
  {
   "cell_type": "code",
   "execution_count": 11,
   "metadata": {},
   "outputs": [],
   "source": [
    "# for train and val\n",
    "def som_saver_shrec2016(root, rows, cols, gpu_ids, output_root):\n",
    "    som_builder = som.SOM(rows, cols, 3, gpu_ids)\n",
    "    \n",
    "    folder_list = os.listdir(root)\n",
    "    for i, folder in enumerate(folder_list):\n",
    "        file_list = os.listdir(os.path.join(root, folder))\n",
    "        print(file_list)\n",
    "#         for j, file in enumerate(file_list):\n",
    "#             if file[-3:] == 'txt':\n",
    "#                 data = np.loadtxt(os.path.join(root, folder, file))\n",
    "#                 pc_np = data[:, 0:3]\n",
    "#                 sn_np = data[:, 3:6]\n",
    "                \n",
    "#                 pc_np_sampled = pc_np[np.random.choice(pc_np.shape[0], 4096, replace=False), :]\n",
    "#                 pc = torch.from_numpy(pc_np_sampled.transpose().astype(np.float32)).cuda()  # 3xN tensor\n",
    "#                 som_builder.optimize(pc)\n",
    "#                 som_node_np = som_builder.node.cpu().numpy().transpose().astype(np.float32)  # node_numx3\n",
    "\n",
    "#                 npz_file = os.path.join(output_root, file[0:-4]+'.npz')\n",
    "#                 np.savez(npz_file, pc=pc_np, sn=sn_np, som_node=som_node_np)\n",
    "\n",
    "#                 if j%100==0:\n",
    "#                     print('%s, %s' % (folder, file))\n",
    "\n",
    "#                 print(pc_np.shape)\n",
    "#                 print(som_node_np.shape)\n",
    "\n",
    "#                 x_np = pc_np\n",
    "#                 node_np = som_node_np\n",
    "#                 fig = plt.figure()\n",
    "#                 ax = Axes3D(fig)\n",
    "#                 ax.scatter(x_np[:,0].tolist(), x_np[:,1].tolist(), x_np[:,2].tolist(), s=1)\n",
    "#                 ax.scatter(node_np[:,0].tolist(), node_np[:,1].tolist(), node_np[:,2].tolist(), s=6, c='r')\n",
    "#                 plt.show()\n",
    "\n",
    "#                 if j>10:\n",
    "#                     break\n",
    "#         break"
   ]
  },
  {
   "cell_type": "code",
   "execution_count": 12,
   "metadata": {
    "scrolled": true
   },
   "outputs": [
    {
     "ename": "RuntimeError",
     "evalue": "CUDA error: invalid device ordinal",
     "output_type": "error",
     "traceback": [
      "\u001b[0;31m---------------------------------------------------------------------------\u001b[0m",
      "\u001b[0;31mRuntimeError\u001b[0m                              Traceback (most recent call last)",
      "\u001b[0;32m<ipython-input-12-3d212b1afb27>\u001b[0m in \u001b[0;36m<module>\u001b[0;34m\u001b[0m\n\u001b[1;32m      1\u001b[0m \u001b[0mrows\u001b[0m\u001b[0;34m,\u001b[0m \u001b[0mcols\u001b[0m \u001b[0;34m=\u001b[0m \u001b[0;36m8\u001b[0m\u001b[0;34m,\u001b[0m \u001b[0;36m8\u001b[0m\u001b[0;34m\u001b[0m\u001b[0;34m\u001b[0m\u001b[0m\n\u001b[0;32m----> 2\u001b[0;31m \u001b[0msom_saver_shrec2016\u001b[0m\u001b[0;34m(\u001b[0m\u001b[0;34m'/media/julianbertini/SecondaryStorage/uchicago/research/thesis/data/shapenetcore_partanno_segmentation_benchmark_v0_normal'\u001b[0m\u001b[0;34m,\u001b[0m \u001b[0mrows\u001b[0m\u001b[0;34m,\u001b[0m \u001b[0mcols\u001b[0m\u001b[0;34m,\u001b[0m \u001b[0;32mTrue\u001b[0m\u001b[0;34m,\u001b[0m \u001b[0;34m'/media/julianbertini/SecondaryStorage/uchicago/research/thesis/data/shapenetcore_partanno_segmentation_benchmark_v0_normal/%dx%d/train'\u001b[0m \u001b[0;34m%\u001b[0m \u001b[0;34m(\u001b[0m\u001b[0mrows\u001b[0m\u001b[0;34m,\u001b[0m \u001b[0mcols\u001b[0m\u001b[0;34m)\u001b[0m\u001b[0;34m)\u001b[0m\u001b[0;34m\u001b[0m\u001b[0;34m\u001b[0m\u001b[0m\n\u001b[0m",
      "\u001b[0;32m<ipython-input-11-a749f4d098ef>\u001b[0m in \u001b[0;36msom_saver_shrec2016\u001b[0;34m(root, rows, cols, gpu_ids, output_root)\u001b[0m\n\u001b[1;32m      1\u001b[0m \u001b[0;31m# for train and val\u001b[0m\u001b[0;34m\u001b[0m\u001b[0;34m\u001b[0m\u001b[0;34m\u001b[0m\u001b[0m\n\u001b[1;32m      2\u001b[0m \u001b[0;32mdef\u001b[0m \u001b[0msom_saver_shrec2016\u001b[0m\u001b[0;34m(\u001b[0m\u001b[0mroot\u001b[0m\u001b[0;34m,\u001b[0m \u001b[0mrows\u001b[0m\u001b[0;34m,\u001b[0m \u001b[0mcols\u001b[0m\u001b[0;34m,\u001b[0m \u001b[0mgpu_ids\u001b[0m\u001b[0;34m,\u001b[0m \u001b[0moutput_root\u001b[0m\u001b[0;34m)\u001b[0m\u001b[0;34m:\u001b[0m\u001b[0;34m\u001b[0m\u001b[0;34m\u001b[0m\u001b[0m\n\u001b[0;32m----> 3\u001b[0;31m     \u001b[0msom_builder\u001b[0m \u001b[0;34m=\u001b[0m \u001b[0msom\u001b[0m\u001b[0;34m.\u001b[0m\u001b[0mSOM\u001b[0m\u001b[0;34m(\u001b[0m\u001b[0mrows\u001b[0m\u001b[0;34m,\u001b[0m \u001b[0mcols\u001b[0m\u001b[0;34m,\u001b[0m \u001b[0;36m3\u001b[0m\u001b[0;34m,\u001b[0m \u001b[0mgpu_ids\u001b[0m\u001b[0;34m)\u001b[0m\u001b[0;34m\u001b[0m\u001b[0;34m\u001b[0m\u001b[0m\n\u001b[0m\u001b[1;32m      4\u001b[0m \u001b[0;34m\u001b[0m\u001b[0m\n\u001b[1;32m      5\u001b[0m     \u001b[0mfolder_list\u001b[0m \u001b[0;34m=\u001b[0m \u001b[0mos\u001b[0m\u001b[0;34m.\u001b[0m\u001b[0mlistdir\u001b[0m\u001b[0;34m(\u001b[0m\u001b[0mroot\u001b[0m\u001b[0;34m)\u001b[0m\u001b[0;34m\u001b[0m\u001b[0;34m\u001b[0m\u001b[0m\n",
      "\u001b[0;32m/media/julianbertini/SecondaryStorage/uchicago/research/thesis/code/repos/SO-Net/data/build_som/util/som.py\u001b[0m in \u001b[0;36m__init__\u001b[0;34m(self, rows, cols, dim, gpu_id)\u001b[0m\n\u001b[1;32m     42\u001b[0m         \u001b[0mself\u001b[0m\u001b[0;34m.\u001b[0m\u001b[0minit_weighting_matrix\u001b[0m \u001b[0;34m=\u001b[0m \u001b[0mtorch\u001b[0m\u001b[0;34m.\u001b[0m\u001b[0mFloatTensor\u001b[0m\u001b[0;34m(\u001b[0m\u001b[0mself\u001b[0m\u001b[0;34m.\u001b[0m\u001b[0mnode_num\u001b[0m\u001b[0;34m,\u001b[0m \u001b[0mself\u001b[0m\u001b[0;34m.\u001b[0m\u001b[0mrows\u001b[0m\u001b[0;34m,\u001b[0m \u001b[0mself\u001b[0m\u001b[0;34m.\u001b[0m\u001b[0mcols\u001b[0m\u001b[0;34m)\u001b[0m  \u001b[0;31m# node_numxrowsxcols\u001b[0m\u001b[0;34m\u001b[0m\u001b[0;34m\u001b[0m\u001b[0m\n\u001b[1;32m     43\u001b[0m         \u001b[0;32mif\u001b[0m \u001b[0mself\u001b[0m\u001b[0;34m.\u001b[0m\u001b[0mgpu_id\u001b[0m \u001b[0;34m>=\u001b[0m \u001b[0;36m0\u001b[0m\u001b[0;34m:\u001b[0m\u001b[0;34m\u001b[0m\u001b[0;34m\u001b[0m\u001b[0m\n\u001b[0;32m---> 44\u001b[0;31m             \u001b[0mself\u001b[0m\u001b[0;34m.\u001b[0m\u001b[0mnode\u001b[0m \u001b[0;34m=\u001b[0m \u001b[0mself\u001b[0m\u001b[0;34m.\u001b[0m\u001b[0mnode\u001b[0m\u001b[0;34m.\u001b[0m\u001b[0mto\u001b[0m\u001b[0;34m(\u001b[0m\u001b[0mself\u001b[0m\u001b[0;34m.\u001b[0m\u001b[0mdevice\u001b[0m\u001b[0;34m)\u001b[0m\u001b[0;34m\u001b[0m\u001b[0;34m\u001b[0m\u001b[0m\n\u001b[0m\u001b[1;32m     45\u001b[0m             \u001b[0mself\u001b[0m\u001b[0;34m.\u001b[0m\u001b[0mnode_idx_list\u001b[0m \u001b[0;34m=\u001b[0m \u001b[0mself\u001b[0m\u001b[0;34m.\u001b[0m\u001b[0mnode_idx_list\u001b[0m\u001b[0;34m.\u001b[0m\u001b[0mto\u001b[0m\u001b[0;34m(\u001b[0m\u001b[0mself\u001b[0m\u001b[0;34m.\u001b[0m\u001b[0mdevice\u001b[0m\u001b[0;34m)\u001b[0m\u001b[0;34m\u001b[0m\u001b[0;34m\u001b[0m\u001b[0m\n\u001b[1;32m     46\u001b[0m             \u001b[0mself\u001b[0m\u001b[0;34m.\u001b[0m\u001b[0minit_weighting_matrix\u001b[0m \u001b[0;34m=\u001b[0m \u001b[0mself\u001b[0m\u001b[0;34m.\u001b[0m\u001b[0minit_weighting_matrix\u001b[0m\u001b[0;34m.\u001b[0m\u001b[0mto\u001b[0m\u001b[0;34m(\u001b[0m\u001b[0mself\u001b[0m\u001b[0;34m.\u001b[0m\u001b[0mdevice\u001b[0m\u001b[0;34m)\u001b[0m\u001b[0;34m\u001b[0m\u001b[0;34m\u001b[0m\u001b[0m\n",
      "\u001b[0;31mRuntimeError\u001b[0m: CUDA error: invalid device ordinal"
     ]
    }
   ],
   "source": [
    "rows, cols = 8, 8\n",
    "som_saver_shrec2016('/media/julianbertini/SecondaryStorage/uchicago/research/thesis/data/shapenetcore_partanno_segmentation_benchmark_v0_normal', rows, cols, True, '/media/julianbertini/SecondaryStorage/uchicago/research/thesis/data/shapenetcore_partanno_segmentation_benchmark_v0_normal/%dx%d/train' % (rows, cols))"
   ]
  },
  {
   "cell_type": "code",
   "execution_count": null,
   "metadata": {
    "collapsed": true
   },
   "outputs": [],
   "source": [
    "# for test set\n",
    "def som_saver_shrec2016(root, rows, cols, gpu_ids, output_root):\n",
    "    som_builder = som.SOM(rows, cols, 3, gpu_ids)\n",
    "\n",
    "    file_list = os.listdir(root)\n",
    "    for j, file in enumerate(file_list):\n",
    "        if file[-3:] == 'txt':\n",
    "            data = np.loadtxt(os.path.join(root, file))\n",
    "            pc_np = data[:, 0:3]\n",
    "            sn_np = data[:, 3:6]\n",
    "\n",
    "            pc_np_sampled = pc_np[np.random.choice(pc_np.shape[0], 4096, replace=False), :]\n",
    "            pc = torch.from_numpy(pc_np_sampled.transpose().astype(np.float32)).cuda()  # 3xN tensor\n",
    "            som_builder.optimize(pc)\n",
    "            som_node_np = som_builder.node.cpu().numpy().transpose().astype(np.float32)  # node_numx3\n",
    "\n",
    "            npz_file = os.path.join(output_root, file[0:-4]+'.npz')\n",
    "            np.savez(npz_file, pc=pc_np, sn=sn_np, som_node=som_node_np)\n",
    "\n",
    "            if j%100==0:\n",
    "                print('%s' % (file))\n",
    "\n",
    "#                 print(pc_np.shape)\n",
    "#                 print(som_node_np.shape)\n",
    "\n",
    "#                 x_np = pc_np\n",
    "#                 node_np = som_node_np\n",
    "#                 fig = plt.figure()\n",
    "#                 ax = Axes3D(fig)\n",
    "#                 ax.scatter(x_np[:,0].tolist(), x_np[:,1].tolist(), x_np[:,2].tolist(), s=1)\n",
    "#                 ax.scatter(node_np[:,0].tolist(), node_np[:,1].tolist(), node_np[:,2].tolist(), s=6, c='r')\n",
    "#                 plt.show()\n",
    "\n",
    "#                 if j>10:\n",
    "#                     break\n",
    "#         break"
   ]
  },
  {
   "cell_type": "code",
   "execution_count": null,
   "metadata": {
    "collapsed": true
   },
   "outputs": [],
   "source": [
    "rows, cols = 8, 8\n",
    "som_saver_shrec2016('/ssd/dataset/SHREC2016/obj_txt/test_allinone', rows, cols, True, '/ssd/dataset/SHREC2016/%dx%d/test'%(rows, cols))"
   ]
  },
  {
   "cell_type": "code",
   "execution_count": null,
   "metadata": {
    "collapsed": true
   },
   "outputs": [],
   "source": [
    "file = '/ssd/dataset/SHREC2016/8x8/train/model_013435.npz'\n",
    "data = np.load(file)\n",
    "pc_np = data['pc']\n",
    "sn_np = data['sn']\n",
    "som_node_np = data['som_node']\n",
    "\n",
    "print(pc_np)\n",
    "print(sn_np)\n",
    "print(som_node_np)\n",
    "\n",
    "x_np = pc_np\n",
    "node_np = som_node_np\n",
    "fig = plt.figure()\n",
    "ax = Axes3D(fig)\n",
    "ax.scatter(x_np[:,0].tolist(), x_np[:,1].tolist(), x_np[:,2].tolist(), s=1)\n",
    "ax.scatter(node_np[:,0].tolist(), node_np[:,1].tolist(), node_np[:,2].tolist(), s=6, c='r')\n",
    "plt.show()"
   ]
  },
  {
   "cell_type": "code",
   "execution_count": null,
   "metadata": {
    "collapsed": true
   },
   "outputs": [],
   "source": [
    "file_list = os.listdir('/ssd/dataset/SHREC2016/8x8/test')\n",
    "file_list.sort()\n",
    "f = open('test.txt', 'w')\n",
    "for file in file_list:\n",
    "    f.write('%s\\n' % file[6:-4])\n",
    "f.close()"
   ]
  },
  {
   "cell_type": "code",
   "execution_count": null,
   "metadata": {
    "collapsed": true
   },
   "outputs": [],
   "source": []
  }
 ],
 "metadata": {
  "kernelspec": {
   "display_name": "Python 3",
   "language": "python",
   "name": "python3"
  },
  "language_info": {
   "codemirror_mode": {
    "name": "ipython",
    "version": 3
   },
   "file_extension": ".py",
   "mimetype": "text/x-python",
   "name": "python",
   "nbconvert_exporter": "python",
   "pygments_lexer": "ipython3",
   "version": "3.8.5"
  }
 },
 "nbformat": 4,
 "nbformat_minor": 2
}
